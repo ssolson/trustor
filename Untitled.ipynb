{
 "cells": [
  {
   "cell_type": "markdown",
   "id": "5c0a5ea1-f50f-49f5-8876-9d3cd5863a5f",
   "metadata": {},
   "source": [
    "Create a pro rata and per stirpies distribution"
   ]
  },
  {
   "cell_type": "code",
   "execution_count": 10,
   "id": "3b5c223e-23da-4a4a-9cac-f7907442a9ed",
   "metadata": {},
   "outputs": [],
   "source": [
    "def defineBeneficiaries(addresses, shares):\n",
    "    '''\n",
    "    Parameters\n",
    "    ----------\n",
    "    addresses: list\n",
    "        list of string addresses\n",
    "    shares: list\n",
    "        list of integer shares\n",
    "    \n",
    "    Returns\n",
    "    -------\n",
    "    beneficiaries: dict\n",
    "        dictionary of beneficiaries\n",
    "    '''\n",
    "    # Not Used but assume all bene are generation 1\n",
    "    generation=1;\n",
    "    beneficiaries={}\n",
    "    for i in range(len(addresses)):\n",
    "        address = addresses[i]\n",
    "        share = shares[i]\n",
    "        beneficiaries[address]= share\n",
    "    return beneficiaries\n",
    "    "
   ]
  },
  {
   "cell_type": "code",
   "execution_count": 50,
   "id": "d5bb737f-a8eb-4c86-a5cd-dcfe5b666004",
   "metadata": {},
   "outputs": [],
   "source": [
    "def eliminateBeneficiaryProRata(addresses, beneficiaries):\n",
    "    '''\n",
    "    Parameters\n",
    "    ----------\n",
    "    addresses: list\n",
    "        list of string addresses to be eliminated\n",
    "    beneficiaries: Dict\n",
    "        dictionary of current beneficiaries\n",
    "    \n",
    "    Returns\n",
    "    -------\n",
    "    beneficiaries: dict\n",
    "        dictionary of beneficiaries with resdistributed shares\n",
    "    '''\n",
    "    totalBeneficiaries= len(beneficiaries);\n",
    "    NtoRemove=len(addresses)\n",
    "    assert(totalBeneficiaries>NtoRemove)\n",
    "    remainingBeneficiaries = totalBeneficiaries-NtoRemove\n",
    "    \n",
    "    sharesToRedistribute=0\n",
    "    for i in range(len(addresses)):\n",
    "        address = addresses[i]\n",
    "        sharesToRedistribute+=beneficiaries[address]\n",
    "        del beneficiaries[address]\n",
    "    \n",
    "    for address in beneficiaries:\n",
    "        beneficiaries[address]+=sharesToRedistribute/remainingBeneficiaries\n",
    "    \n",
    "    return beneficiaries"
   ]
  },
  {
   "cell_type": "code",
   "execution_count": 40,
   "id": "7509537f-b2ab-4226-b65e-b2e8037c7eb0",
   "metadata": {},
   "outputs": [],
   "source": [
    "def percentOfTotal(beneficiaries):\n",
    "    totalShares=0\n",
    "    for address in beneficiaries:\n",
    "        totalShares+=beneficiaries[address]\n",
    "    for address in beneficiaries:\n",
    "        beneficiaries[address]/=totalShares\n",
    "    return beneficiaries"
   ]
  },
  {
   "cell_type": "code",
   "execution_count": 41,
   "id": "722472b4-b9c4-4d6f-a1c5-e0f14a3594c4",
   "metadata": {},
   "outputs": [
    {
     "name": "stdout",
     "output_type": "stream",
     "text": [
      "{'0xJon': 50, '0xJeff': 50}\n"
     ]
    }
   ],
   "source": [
    "addresses= [\"0xJon\",\"0xJeff\"]\n",
    "shares = [50,50]\n",
    "beneficiaries = defineBeneficiaries(addresses, shares)\n",
    "print(beneficiaries)"
   ]
  },
  {
   "cell_type": "code",
   "execution_count": 49,
   "id": "8e8a96b2-5ae5-4edb-92b6-e77606055b3c",
   "metadata": {},
   "outputs": [
    {
     "name": "stdout",
     "output_type": "stream",
     "text": [
      "{'0xJon': 0.42857142857142855, '0xSters': 0.5714285714285714}\n",
      "{'0xJon': 0.4, '0xSters': 0.6}\n"
     ]
    }
   ],
   "source": [
    "# Define\n",
    "addresses= [\"0xJon\",\"0xJeff\", \"0xSters\"]\n",
    "shares = [50,50,75]\n",
    "beneficiaries = defineBeneficiaries(addresses, shares)\n",
    "# print(beneficiaries)\n",
    "\n",
    "#Remove\n",
    "beneficiariesNew = eliminateBeneficiaryProRata(['0xJeff'], beneficiaries)\n",
    "# print(beneficiariesNew)\n",
    "\n",
    "beneficiariesPercent = percentOfTotal(beneficiariesNew)\n",
    "print(beneficiariesPercent)\n",
    "\n",
    "\n",
    "beneficiariesPercent = percentOfTotal(beneficiariesNew)\n",
    "print(beneficiariesPercent)\n",
    "\n",
    "# # Redefine and remove\n",
    "# beneficiaries = defineBeneficiaries(addresses, shares)\n",
    "# beneficiariesNew = eliminateBeneficiaryProRata(['0xJon'], beneficiaries)\n",
    "# beneficiariesPercent = percentOfTotal(beneficiariesNew)\n",
    "# print(beneficiariesPercent)\n",
    "\n",
    "\n"
   ]
  },
  {
   "cell_type": "code",
   "execution_count": null,
   "id": "ecf80eb1-e589-4904-82d0-bae088c51a0c",
   "metadata": {},
   "outputs": [],
   "source": []
  }
 ],
 "metadata": {
  "kernelspec": {
   "display_name": "Python 3 (ipykernel)",
   "language": "python",
   "name": "python3"
  },
  "language_info": {
   "codemirror_mode": {
    "name": "ipython",
    "version": 3
   },
   "file_extension": ".py",
   "mimetype": "text/x-python",
   "name": "python",
   "nbconvert_exporter": "python",
   "pygments_lexer": "ipython3",
   "version": "3.9.12"
  }
 },
 "nbformat": 4,
 "nbformat_minor": 5
}
